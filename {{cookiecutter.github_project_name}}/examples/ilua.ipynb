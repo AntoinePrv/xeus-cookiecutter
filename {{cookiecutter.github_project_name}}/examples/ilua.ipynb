{
 "cells": [
  {
   "cell_type": "code",
   "execution_count": 2,
   "metadata": {},
   "outputs": [],
   "source": [
    "display = require(\"ilua.display\")\n",
    "pprint = require(\"ilua.pprint\")"
   ]
  },
  {
   "cell_type": "code",
   "execution_count": 11,
   "metadata": {},
   "outputs": [
    {
     "data": {
      "text/plain": [
       "hello_world"
      ]
     },
     "metadata": {
      "text/plain": "hello_world"
     },
     "output_type": "display_data"
    },
    {
     "name": "stream",
     "output_type": "stream",
     "text": [
      "\n"
     ]
    }
   ],
   "source": [
    "display.plain_text(\"hello_world\")"
   ]
  },
  {
   "cell_type": "code",
   "execution_count": 3,
   "metadata": {},
   "outputs": [
    {
     "data": {
      "text/html": [
       "<html>    \n",
       "  <body>      \n",
       "     <h1 style=\"color:red;font-size:40px;\">Hello World</h1>       \n",
       "     <p style=\"color:blue;font-size:18px;\">ilua rocks</p>    \n",
       "  </body> \n",
       "</html>"
      ]
     },
     "metadata": {
      "text/html": "<html>    \n  <body>      \n     <h1 style=\"color:red;font-size:40px;\">Hello World</h1>       \n     <p style=\"color:blue;font-size:18px;\">ilua rocks</p>    \n  </body> \n</html>"
     },
     "output_type": "display_data"
    }
   ],
   "source": [
    "html_str = [[<html>    \n",
    "  <body>      \n",
    "     <h1 style=\"color:red;font-size:40px;\">Hello World</h1>       \n",
    "     <p style=\"color:blue;font-size:18px;\">ilua rocks</p>    \n",
    "  </body> \n",
    "</html>]]\n",
    "display.html(html_str)"
   ]
  },
  {
   "cell_type": "code",
   "execution_count": 7,
   "metadata": {},
   "outputs": [
    {
     "data": {
      "application/json": {
       "data": {
        "text/plain": "https://xeus.readthedocs.io"
       },
       "source": "page",
       "start": 1
      }
     },
     "metadata": {
      "application/json": {
       "data": {
        "text/plain": "https://xeus.readthedocs.io"
       },
       "source": "page",
       "start": 1
      }
     },
     "output_type": "display_data"
    },
    {
     "data": {
      "text/latex": [
       "\\[ x^n + y^n = z^n \\]\n"
      ]
     },
     "metadata": {
      "text/latex": "\\[ x^n + y^n = z^n \\]\n"
     },
     "output_type": "display_data"
    }
   ],
   "source": [
    "data = {\n",
    "    [\"data\"]={\n",
    "        [\"text/plain\"] = \"https://xeus.readthedocs.io\"\n",
    "    },\n",
    "    [\"source\"] = \"page\",\n",
    "    [\"start\"]  = 1\n",
    "}\n",
    "display.json(data, 1)\n",
    "\n",
    "latex_source = [[\n",
    "\\[ x^n + y^n = z^n \\]\n",
    "]]\n",
    "display.latex(latex_source)"
   ]
  },
  {
   "cell_type": "code",
   "execution_count": 9,
   "metadata": {},
   "outputs": [
    {
     "data": {
      "text/html": [
       "<table border='3' bgcolor='#339900' cellpadding='10' cellspacing='0'><tr><td><b>1</b><table border='1' bgcolor='#FFFFCC' cellpadding='5' cellspacing='0'><tr><td>1=2</td>\n",
       "<td>2=3</td>\n",
       "<td>3=4</td>\n",
       "<td>4=5</td>\n",
       "<td>5=6</td>\n",
       "<td>6=7</td>\n",
       "<td>7=8</td>\n",
       "<td>8=9</td>\n",
       "</tr></table>\n",
       "</td></tr>\n",
       "<tr><td><b>2</b><table border='1' bgcolor='#FFFFCC' cellpadding='5' cellspacing='0'><tr><td>1=3</td>\n",
       "<td>2=4</td>\n",
       "<td>3=5</td>\n",
       "<td>4=6</td>\n",
       "<td>5=7</td>\n",
       "<td>6=8</td>\n",
       "<td>7=9</td>\n",
       "<td>8=10</td>\n",
       "</tr></table>\n",
       "</td></tr>\n",
       "<tr><td><b>3</b><table border='1' bgcolor='#FFFFCC' cellpadding='5' cellspacing='0'><tr><td>1=4</td>\n",
       "<td>2=5</td>\n",
       "<td>3=6</td>\n",
       "<td>4=7</td>\n",
       "<td>5=8</td>\n",
       "<td>6=9</td>\n",
       "<td>7=10</td>\n",
       "<td>8=11</td>\n",
       "</tr></table>\n",
       "</td></tr>\n",
       "</table>\n"
      ]
     },
     "metadata": {
      "text/html": "<table border='3' bgcolor='#339900' cellpadding='10' cellspacing='0'><tr><td><b>1</b><table border='1' bgcolor='#FFFFCC' cellpadding='5' cellspacing='0'><tr><td>1=2</td>\n<td>2=3</td>\n<td>3=4</td>\n<td>4=5</td>\n<td>5=6</td>\n<td>6=7</td>\n<td>7=8</td>\n<td>8=9</td>\n</tr></table>\n</td></tr>\n<tr><td><b>2</b><table border='1' bgcolor='#FFFFCC' cellpadding='5' cellspacing='0'><tr><td>1=3</td>\n<td>2=4</td>\n<td>3=5</td>\n<td>4=6</td>\n<td>5=7</td>\n<td>6=8</td>\n<td>7=9</td>\n<td>8=10</td>\n</tr></table>\n</td></tr>\n<tr><td><b>3</b><table border='1' bgcolor='#FFFFCC' cellpadding='5' cellspacing='0'><tr><td>1=4</td>\n<td>2=5</td>\n<td>3=6</td>\n<td>4=7</td>\n<td>5=8</td>\n<td>6=9</td>\n<td>7=10</td>\n<td>8=11</td>\n</tr></table>\n</td></tr>\n</table>\n"
     },
     "output_type": "display_data"
    }
   ],
   "source": [
    "-- Create a 3 x 8 array\n",
    "html = require(\"ilua.html\")\n",
    "grid = {}\n",
    "for i = 1, 3 do\n",
    "    grid[i] = {}\n",
    "\n",
    "    for j = 1, 8 do\n",
    "        grid[i][j] = i+j -- Fill the values here\n",
    "    end\n",
    "end\n",
    "display.table(grid)"
   ]
  },
  {
   "cell_type": "code",
   "execution_count": 12,
   "metadata": {},
   "outputs": [
    {
     "name": "stream",
     "output_type": "stream",
     "text": [
      "{ \n",
      "  [123] = { 1, 2, 3 },\n",
      "  callback = [[function 1]] \n",
      "}\n",
      "\n"
     ]
    }
   ],
   "source": [
    "function fubar()\n",
    "end\n",
    "data = {\n",
    "    [123]={1,2,3},\n",
    "    [\"callback\"] = fubar\n",
    "}\n",
    "pprint.pprint(data)"
   ]
  }
 ],
 "metadata": {
  "kernelspec": {
   "display_name": "Lua . (XLua)",
   "language": "lua",
   "name": "xlua"
  },
  "language_info": {
   "file_extension": ".lua",
   "mimetype": "text/x-luasrc",
   "name": "lua",
   "version": "14.0.0"
  }
 },
 "nbformat": 4,
 "nbformat_minor": 4
}
