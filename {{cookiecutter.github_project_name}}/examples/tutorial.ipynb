{
 "cells": [
  {
   "cell_type": "code",
   "execution_count": 3,
   "id": "9364984b-1f97-49b3-8f43-ba19b0d42087",
   "metadata": {},
   "outputs": [],
   "source": [
    "pprint = require 'pprint'"
   ]
  },
  {
   "cell_type": "code",
   "execution_count": 1,
   "id": "6f8b2b91-b98c-4a56-9d4d-8bf025107cd6",
   "metadata": {
    "tags": []
   },
   "outputs": [
    {
     "name": "stream",
     "output_type": "stream",
     "text": [
      "aaa \n"
     ]
    }
   ],
   "source": [
    "local meta = {\n",
    "    __call = function(self, ...)\n",
    "        local args = table.pack(...)\n",
    "        for i=1,args.n do\n",
    "           self.data = self.data .. tostring(args[i])\n",
    "        end\n",
    "\n",
    "    end\n",
    "}\n",
    "\n",
    "printer = { prepend = \"printer:\",data=\"\"}\n",
    "setmetatable(printer, meta)\n",
    "\n",
    "\n",
    "printer(\"a\")\n",
    "printer(\"a\")\n",
    "printer(\"a\")\n",
    "print(printer.data)"
   ]
  },
  {
   "cell_type": "code",
   "execution_count": 25,
   "id": "26d579d5-8c6d-4ae7-9eaf-72575db8d533",
   "metadata": {
    "tags": []
   },
   "outputs": [
    {
     "name": "stream",
     "output_type": "stream",
     "text": [
      "{ \n",
      "  [123] = { 1, 2, 3 } \n",
      "}\n",
      "\n"
     ]
    }
   ],
   "source": [
    "data = {[123]={1,2,3}}\n",
    "pprint.pprint(data)"
   ]
  }
 ],
 "metadata": {
  "kernelspec": {
   "display_name": "Lua . (XLua)",
   "language": "lua",
   "name": "xlua"
  },
  "language_info": {
   "file_extension": ".lua",
   "mimetype": "text/x-luasrc",
   "name": "lua",
   "version": "14.0.0"
  }
 },
 "nbformat": 4,
 "nbformat_minor": 5
}
