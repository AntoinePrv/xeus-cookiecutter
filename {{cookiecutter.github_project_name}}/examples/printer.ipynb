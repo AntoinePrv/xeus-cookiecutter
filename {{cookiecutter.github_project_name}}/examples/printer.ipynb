{
 "cells": [
  {
   "cell_type": "code",
   "execution_count": 27,
   "id": "9a6b5d63-02db-43f6-83cc-ad1572d36ac4",
   "metadata": {},
   "outputs": [
    {
     "ename": "[string \"Printer = {data=\"\"}...\"]:6: attempt to concatenate a nil value (field 'data')\nstack traceback:\n\t[string \"Printer = {data=\"\"}...\"]:6: in field 'write'\n\t[string \"Printer = {data=\"\"}...\"]:19: in main chunk",
     "evalue": "[string \"Printer = {data=\"\"}...\"]:6: attempt to concatenate a nil value (field 'data')\nstack traceback:\n\t[string \"Printer = {data=\"\"}...\"]:6: in field 'write'\n\t[string \"Printer = {data=\"\"}...\"]:19: in main chunk",
     "output_type": "error",
     "traceback": [
      "[string \"Printer = {data=\"\"}...\"]:6: attempt to concatenate a nil value (field 'data')\nstack traceback:\n\t[string \"Printer = {data=\"\"}...\"]:6: in field 'write'\n\t[string \"Printer = {data=\"\"}...\"]:19: in main chunk"
     ]
    }
   ],
   "source": [
    "Printer = {data=\"\"}\n",
    "Account = {}\n",
    "Account.__index = Account\n",
    "function Printer.write(self,...)\n",
    "    local args = table.pack(...)\n",
    "    for i=1,args.n do\n",
    "       self.data = self.data .. tostring(args[i])\n",
    "    end\n",
    "end\n",
    "\n",
    "function Printer:new (o)\n",
    "  o = o or {}   -- create object if user does not provide one\n",
    "  setmetatable(o, self)\n",
    "  self.__index = self\n",
    "  return o\n",
    "end\n",
    "\n",
    "\n",
    "a = Printer:new{data=\"\"}\n",
    "a.write(\"hello\",\"\\n\", \"world\",\"!\")"
   ]
  },
  {
   "cell_type": "code",
   "execution_count": 32,
   "id": "dcb2abc6-6afc-48eb-ae60-1001f14a4beb",
   "metadata": {},
   "outputs": [],
   "source": [
    "Account = {}\n",
    "Account.__index = Account\n",
    "\n",
    "function Account:create(balance)\n",
    "   local acnt = {}             -- our new object\n",
    "   setmetatable(acnt,Account)  -- make Account handle lookup\n",
    "   acnt.balance = balance      -- initialize our object\n",
    "   return acnt\n",
    "end\n",
    "\n",
    "function Account:withdraw(amount)\n",
    "   self.balance = self.balance - amount\n",
    "end\n",
    "\n",
    "-- create and use an Account\n",
    "acc = Account:create(1000)\n",
    "acc:withdraw(100)"
   ]
  },
  {
   "cell_type": "code",
   "execution_count": 13,
   "id": "47140dca-ea66-46ca-b74b-b28b6b995d46",
   "metadata": {},
   "outputs": [
    {
     "name": "stream",
     "output_type": "stream",
     "text": [
      " \n"
     ]
    }
   ],
   "source": [
    "a.data"
   ]
  }
 ],
 "metadata": {
  "kernelspec": {
   "display_name": "Lua . (XLua)",
   "language": "lua",
   "name": "xlua"
  },
  "language_info": {
   "file_extension": ".lua",
   "mimetype": "text/x-luasrc",
   "name": "lua",
   "version": "14.0.0"
  }
 },
 "nbformat": 4,
 "nbformat_minor": 5
}
