{
 "cells": [
  {
   "cell_type": "code",
   "execution_count": 1,
   "id": "ac588504-e154-41a7-85fa-27d1bd8580bc",
   "metadata": {},
   "outputs": [
    {
     "data": {
      "text/plain": [
       "hello world"
      ]
     },
     "metadata": {
      "text/plain": "hello world"
     },
     "output_type": "display_data"
    },
    {
     "data": {
      "text/plain": [
       "hello world"
      ]
     },
     "metadata": {
      "text/plain": "hello world"
     },
     "output_type": "display_data"
    }
   ],
   "source": [
    "local json = require 'json'\n",
    "function display_data(data,metadata,transient)\n",
    "    _display_data(\n",
    "        json.encode(data),\n",
    "        json.encode(metadata),\n",
    "        json.encode(transient)\n",
    "    )\n",
    "end\n",
    "\n",
    "\n",
    "data = {\n",
    "  [\"text/plain\"] = \"hello world\"\n",
    "}\n",
    "metadata = {\n",
    "}\n",
    "transient = {\n",
    "}\n",
    "display_data(data, metadata, transient)\n",
    "display_data(data, metadata, transient)"
   ]
  }
 ],
 "metadata": {
  "kernelspec": {
   "display_name": "Lua . (XLua)",
   "language": "lua",
   "name": "xlua"
  },
  "language_info": {
   "file_extension": ".lua",
   "mimetype": "text/x-luasrc",
   "name": "lua",
   "version": "14.0.0"
  }
 },
 "nbformat": 4,
 "nbformat_minor": 5
}
