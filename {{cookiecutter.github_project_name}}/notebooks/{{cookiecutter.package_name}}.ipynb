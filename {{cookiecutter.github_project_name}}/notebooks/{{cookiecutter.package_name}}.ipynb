{
 "cells": [
  {
   "cell_type": "markdown",
   "metadata": {},
   "source": [
    "<center>\n",
    "    <h1>{{cookiecutter.language}} kernel based on xeus</h1>\n",
    "</center>"
   ]
  },
  {
   "cell_type": "markdown",
   "metadata": {},
   "source": [
    "# Simple code execution"
   ]
  },
  {
   "cell_type": "code",
   "execution_count": null,
   "metadata": {},
   "outputs": [],
   "source": [
    "a = 3"
   ]
  }
 ],
 "metadata": {
  "kernelspec": {
   "display_name": "Python {{cookiecutter.language_version}} ({{cookiecutter.kernel_name}})",
   "language": "{{cookiecutter.language_mimetype}}",
   "name": "{{cookiecutter.kernel_name}}"
  },
  "language_info": {
   "file_extension": "{{cookiecutter.language_file_extension}}",
   "mimetype": "{{cookiecutter.language_mimetype}}",
   "name": "{{cookiecutter.kernel_name}}",
   "version": "{{cookiecutter.language_version}}"
  }
 },
 "nbformat": 4,
 "nbformat_minor": 4
}
